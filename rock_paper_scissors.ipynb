{
  "nbformat": 4,
  "nbformat_minor": 0,
  "metadata": {
    "colab": {
      "name": "rock-paper-scissors.ipynb",
      "provenance": [],
      "toc_visible": true,
      "authorship_tag": "ABX9TyOvpEoxy7wpKjZG/EYVsVF+",
      "include_colab_link": true
    },
    "kernelspec": {
      "name": "python3",
      "display_name": "Python 3"
    },
    "language_info": {
      "name": "python"
    }
  },
  "cells": [
    {
      "cell_type": "markdown",
      "metadata": {
        "id": "view-in-github",
        "colab_type": "text"
      },
      "source": [
        "<a href=\"https://colab.research.google.com/github/Asleik/rock-paper-scissors/blob/main/rock_paper_scissors.ipynb\" target=\"_parent\"><img src=\"https://colab.research.google.com/assets/colab-badge.svg\" alt=\"Open In Colab\"/></a>"
      ]
    },
    {
      "cell_type": "markdown",
      "metadata": {
        "id": "r3pIt23KFVaf"
      },
      "source": [
        "#  Rock, Paper and Scissors\n",
        "\n"
      ]
    },
    {
      "cell_type": "markdown",
      "metadata": {
        "id": "nzW6Z6R6FZhH"
      },
      "source": [
        "#### Imports"
      ]
    },
    {
      "cell_type": "code",
      "metadata": {
        "id": "FUOp7aecFPIT"
      },
      "source": [
        "import random\n",
        "import re"
      ],
      "execution_count": 20,
      "outputs": []
    },
    {
      "cell_type": "markdown",
      "metadata": {
        "id": "1xR4R1o9GJhy"
      },
      "source": [
        "## rock_paper_scissors\n",
        "\n",
        "This is responsible for calling all of the other methods."
      ]
    },
    {
      "cell_type": "code",
      "metadata": {
        "id": "W2dGrmxTFvh-"
      },
      "source": [
        "def rock_paper_scissors(matches):\n",
        "    player_wins = 0\n",
        "    cpu_wins = 0\n",
        "\n",
        "    for match in range(matches):\n",
        "        print_match_intro(match, matches)\n",
        "        player_input = player_choice()\n",
        "        cpu_input = cpu_hand_chooser()\n",
        "        player_wins, cpu_wins = face_off(player_input, cpu_input, player_wins, cpu_wins)\n",
        "        print_scoreboard(cpu_wins, player_wins)\n",
        "\n",
        "    print_ending_results(cpu_wins, player_wins)"
      ],
      "execution_count": 21,
      "outputs": []
    },
    {
      "cell_type": "markdown",
      "metadata": {
        "id": "dW_8VakoGUYE"
      },
      "source": [
        "## player_choice\n",
        "\n",
        "Simple RegEx for input validation.\n",
        "\n",
        "> For more information, look for [Regular Expression](https://en.wikipedia.org/wiki/Regular_expression)\n",
        "\n",
        "I like to use [RegEx Pal](https://www.regexpal.com/) for checking.\n",
        "\n",
        "Note: This `\\b` isn't in the code because it is already being enforced by the `.fullmatch()`."
      ]
    },
    {
      "cell_type": "markdown",
      "metadata": {
        "id": "JukOocoGI6Jf"
      },
      "source": [
        "![image.png](data:image/png;base64,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)"
      ]
    },
    {
      "cell_type": "code",
      "metadata": {
        "id": "iMzPxmgnGC8l"
      },
      "source": [
        "def player_choice():\n",
        "    # uses RegEx to validade player input\n",
        "    re_pattern = re.compile('[rpsRPS]')\n",
        "\n",
        "    while True:\n",
        "        player_input = input('Choose one: [R]ock - [P]aper - [S]cissor\\n')\n",
        "        is_valid_player_input = re_pattern.fullmatch(player_input)\n",
        "        if not is_valid_player_input:\n",
        "            print(f'what the heck is {player_input}???')\n",
        "        else:\n",
        "            print(f'Player showed: {player_input}')\n",
        "            break\n",
        "\n",
        "    return player_input.lower()"
      ],
      "execution_count": 22,
      "outputs": []
    },
    {
      "cell_type": "markdown",
      "metadata": {
        "id": "PzjOZ9l-GdOD"
      },
      "source": [
        "## cpu_hand_chooser\n",
        "\n",
        "Random generated cpu input.\n",
        "\n",
        "> For more information on [Random](https://docs.python.org/3/library/random.html#module-random)."
      ]
    },
    {
      "cell_type": "code",
      "metadata": {
        "id": "1M8QkzkBGEs5"
      },
      "source": [
        "def cpu_hand_chooser():\n",
        "    # just choose a random hand for CPU\n",
        "    cpu_choice_number = random.randrange(3)\n",
        "    hand = ['r', 'p', 's']\n",
        "    print(f'CPU showed: {hand[cpu_choice_number]}')\n",
        "    return hand[cpu_choice_number]"
      ],
      "execution_count": 23,
      "outputs": []
    },
    {
      "cell_type": "markdown",
      "metadata": {
        "id": "Wf0nOISXGf3G"
      },
      "source": [
        "## print_match_intro"
      ]
    },
    {
      "cell_type": "code",
      "metadata": {
        "id": "2vgssxqbFyoC"
      },
      "source": [
        "def print_match_intro(match, matches):\n",
        "    print('\\n')\n",
        "    if match == matches - 1:\n",
        "        print('It\\'s time for the last match')\n",
        "    else:\n",
        "        print(f'It\\'s time for the match number {match + 1}!')"
      ],
      "execution_count": 24,
      "outputs": []
    },
    {
      "cell_type": "markdown",
      "metadata": {
        "id": "SRUraJsWGirB"
      },
      "source": [
        "## face_off\n",
        "\n",
        "Using dict for better readability.\n",
        "\n",
        "> For more information, look for [Dictionaries](https://docs.python.org/3/tutorial/datastructures.html#dictionaries) and  [Zip Method (Build In)](https://docs.python.org/3/library/functions.html#zip)."
      ]
    },
    {
      "cell_type": "code",
      "metadata": {
        "id": "kI4yiTsXGHQy"
      },
      "source": [
        "def face_off(player_input, cpu_input, player_wins, cpu_wins):\n",
        "    # compare player and cpu hands, in this specific order\n",
        "    input_combination_list = ['rr', 'rp', 'rs',\n",
        "                              'pp', 'ps', 'pr',\n",
        "                              'ss', 'sr', 'sp']\n",
        "    output_combination_list = [['draw', 0, 0],\n",
        "                               ['CPU Won', 0, 1],\n",
        "                               ['Player Won', 1, 0]]\n",
        "    results_map = dict(zip(input_combination_list, output_combination_list*3))\n",
        "\n",
        "    print(results_map[player_input + cpu_input][0])\n",
        "    return player_wins + results_map[player_input + cpu_input][1], \\\n",
        "           cpu_wins + results_map[player_input + cpu_input][2]"
      ],
      "execution_count": 25,
      "outputs": []
    },
    {
      "cell_type": "markdown",
      "metadata": {
        "id": "mYNKeCx8Gkgk"
      },
      "source": [
        "## print_scoreboard"
      ]
    },
    {
      "cell_type": "code",
      "metadata": {
        "id": "H_UzhigcF6Fg"
      },
      "source": [
        "def print_scoreboard(cpu_wins, player_wins):\n",
        "    print(f'\\n----Scoreboard-----')\n",
        "    print('  Player  |   CPU   ')\n",
        "    print('----------|---------')\n",
        "    print(f'     {player_wins}    |    {cpu_wins}')\n",
        "    print('--------------------')"
      ],
      "execution_count": 26,
      "outputs": []
    },
    {
      "cell_type": "markdown",
      "metadata": {
        "id": "3QLcNez2GmbF"
      },
      "source": [
        "## print_ending_results"
      ]
    },
    {
      "cell_type": "code",
      "metadata": {
        "id": "bFz9QugkF217"
      },
      "source": [
        "def print_ending_results(cpu_wins, player_wins):\n",
        "    print('\\n')\n",
        "    if player_wins > cpu_wins:\n",
        "        print('The human has won!')\n",
        "    if player_wins < cpu_wins:\n",
        "        print('The CPU has won!')\n",
        "    if player_wins == cpu_wins:\n",
        "        print('We got no winners')"
      ],
      "execution_count": 27,
      "outputs": []
    },
    {
      "cell_type": "markdown",
      "metadata": {
        "id": "JIAVgXBGGsnA"
      },
      "source": [
        "# RUN\n",
        "\n",
        "The argument is the number of matches."
      ]
    },
    {
      "cell_type": "code",
      "metadata": {
        "colab": {
          "base_uri": "https://localhost:8080/"
        },
        "id": "JXSUlKC6GxIs",
        "outputId": "7fb34165-e630-4553-ed9c-1ba64fdbd206"
      },
      "source": [
        "rock_paper_scissors(3)"
      ],
      "execution_count": 28,
      "outputs": [
        {
          "output_type": "stream",
          "text": [
            "\n",
            "\n",
            "It's time for the match number 1!\n",
            "Choose one: [R]ock - [P]aper - [S]cissor\n",
            "r\n",
            "Player showed: r\n",
            "CPU showed: s\n",
            "Player Won\n",
            "\n",
            "----Scoreboard-----\n",
            "  Player  |   CPU   \n",
            "----------|---------\n",
            "     1    |    0\n",
            "--------------------\n",
            "\n",
            "\n",
            "It's time for the match number 2!\n",
            "Choose one: [R]ock - [P]aper - [S]cissor\n",
            "s\n",
            "Player showed: s\n",
            "CPU showed: s\n",
            "draw\n",
            "\n",
            "----Scoreboard-----\n",
            "  Player  |   CPU   \n",
            "----------|---------\n",
            "     1    |    0\n",
            "--------------------\n",
            "\n",
            "\n",
            "It's time for the last match\n",
            "Choose one: [R]ock - [P]aper - [S]cissor\n",
            "p\n",
            "Player showed: p\n",
            "CPU showed: s\n",
            "CPU Won\n",
            "\n",
            "----Scoreboard-----\n",
            "  Player  |   CPU   \n",
            "----------|---------\n",
            "     1    |    1\n",
            "--------------------\n",
            "\n",
            "\n",
            "We got no winners\n"
          ],
          "name": "stdout"
        }
      ]
    }
  ]
}